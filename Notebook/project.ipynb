{
 "cells": [
  {
   "cell_type": "code",
   "execution_count": 1,
   "id": "14b34753",
   "metadata": {},
   "outputs": [],
   "source": [
    "import pandas as pd"
   ]
  },
  {
   "cell_type": "code",
   "execution_count": 2,
   "id": "5941fe34",
   "metadata": {},
   "outputs": [],
   "source": [
    "# load datasets\n",
    "train_df = pd.read_csv(\"credit_train.csv\")\n",
    "test_df = pd.read_csv(\"credit_test.csv\")"
   ]
  },
  {
   "cell_type": "code",
   "execution_count": 3,
   "id": "78122741",
   "metadata": {},
   "outputs": [
    {
     "name": "stdout",
     "output_type": "stream",
     "text": [
      "<class 'pandas.core.frame.DataFrame'>\n",
      "RangeIndex: 100514 entries, 0 to 100513\n",
      "Data columns (total 19 columns):\n",
      " #   Column                        Non-Null Count   Dtype  \n",
      "---  ------                        --------------   -----  \n",
      " 0   Loan ID                       100000 non-null  object \n",
      " 1   Customer ID                   100000 non-null  object \n",
      " 2   Loan Status                   100000 non-null  object \n",
      " 3   Current Loan Amount           100000 non-null  float64\n",
      " 4   Term                          100000 non-null  object \n",
      " 5   Credit Score                  80846 non-null   float64\n",
      " 6   Annual Income                 80846 non-null   float64\n",
      " 7   Years in current job          95778 non-null   object \n",
      " 8   Home Ownership                100000 non-null  object \n",
      " 9   Purpose                       100000 non-null  object \n",
      " 10  Monthly Debt                  100000 non-null  float64\n",
      " 11  Years of Credit History       100000 non-null  float64\n",
      " 12  Months since last delinquent  46859 non-null   float64\n",
      " 13  Number of Open Accounts       100000 non-null  float64\n",
      " 14  Number of Credit Problems     100000 non-null  float64\n",
      " 15  Current Credit Balance        100000 non-null  float64\n",
      " 16  Maximum Open Credit           99998 non-null   float64\n",
      " 17  Bankruptcies                  99796 non-null   float64\n",
      " 18  Tax Liens                     99990 non-null   float64\n",
      "dtypes: float64(12), object(7)\n",
      "memory usage: 14.6+ MB\n"
     ]
    },
    {
     "data": {
      "text/plain": [
       "(None,\n",
       " Loan Status\n",
       " Fully Paid     77361\n",
       " Charged Off    22639\n",
       " Name: count, dtype: int64)"
      ]
     },
     "execution_count": 3,
     "metadata": {},
     "output_type": "execute_result"
    }
   ],
   "source": [
    "# Display basic info and class distribution\n",
    "train_df.info(), train_df[\"Loan Status\"].value_counts()"
   ]
  },
  {
   "cell_type": "code",
   "execution_count": 4,
   "id": "9e4f6995",
   "metadata": {},
   "outputs": [],
   "source": [
    "# 1. Import Required Libraries\n",
    "import pandas as pd\n",
    "import numpy as np\n",
    "import seaborn as sns\n",
    "import matplotlib.pyplot as plt\n",
    "\n",
    "from sklearn.model_selection import train_test_split\n",
    "from sklearn.preprocessing import StandardScaler, LabelEncoder\n",
    "from sklearn.impute import SimpleImputer\n",
    "from sklearn.metrics import classification_report, confusion_matrix, accuracy_score\n",
    "from sklearn.linear_model import LogisticRegression\n",
    "from sklearn.ensemble import RandomForestClassifier\n",
    "from sklearn.neighbors import KNeighborsClassifier"
   ]
  },
  {
   "cell_type": "code",
   "execution_count": 5,
   "id": "6bd656c7",
   "metadata": {},
   "outputs": [],
   "source": [
    "# 2. Load Dataset\n",
    "df = pd.read_csv(\"credit_train.csv\")"
   ]
  },
  {
   "cell_type": "code",
   "execution_count": 6,
   "id": "5fc23f55",
   "metadata": {},
   "outputs": [
    {
     "name": "stdout",
     "output_type": "stream",
     "text": [
      "\n",
      "📌 Data Overview:\n",
      "<class 'pandas.core.frame.DataFrame'>\n",
      "RangeIndex: 100514 entries, 0 to 100513\n",
      "Data columns (total 19 columns):\n",
      " #   Column                        Non-Null Count   Dtype  \n",
      "---  ------                        --------------   -----  \n",
      " 0   Loan ID                       100000 non-null  object \n",
      " 1   Customer ID                   100000 non-null  object \n",
      " 2   Loan Status                   100000 non-null  object \n",
      " 3   Current Loan Amount           100000 non-null  float64\n",
      " 4   Term                          100000 non-null  object \n",
      " 5   Credit Score                  80846 non-null   float64\n",
      " 6   Annual Income                 80846 non-null   float64\n",
      " 7   Years in current job          95778 non-null   object \n",
      " 8   Home Ownership                100000 non-null  object \n",
      " 9   Purpose                       100000 non-null  object \n",
      " 10  Monthly Debt                  100000 non-null  float64\n",
      " 11  Years of Credit History       100000 non-null  float64\n",
      " 12  Months since last delinquent  46859 non-null   float64\n",
      " 13  Number of Open Accounts       100000 non-null  float64\n",
      " 14  Number of Credit Problems     100000 non-null  float64\n",
      " 15  Current Credit Balance        100000 non-null  float64\n",
      " 16  Maximum Open Credit           99998 non-null   float64\n",
      " 17  Bankruptcies                  99796 non-null   float64\n",
      " 18  Tax Liens                     99990 non-null   float64\n",
      "dtypes: float64(12), object(7)\n",
      "memory usage: 14.6+ MB\n",
      "None\n",
      "\n",
      "🔍 Missing Values:\n",
      "Months since last delinquent    53655\n",
      "Annual Income                   19668\n",
      "Credit Score                    19668\n",
      "Years in current job             4736\n",
      "Bankruptcies                      718\n",
      "Tax Liens                         524\n",
      "Maximum Open Credit               516\n",
      "Loan Status                       514\n",
      "Customer ID                       514\n",
      "Loan ID                           514\n",
      "Term                              514\n",
      "Monthly Debt                      514\n",
      "Purpose                           514\n",
      "Home Ownership                    514\n",
      "Current Loan Amount               514\n",
      "Number of Credit Problems         514\n",
      "Number of Open Accounts           514\n",
      "Years of Credit History           514\n",
      "Current Credit Balance            514\n",
      "dtype: int64\n",
      "\n",
      "🎯 Target Distribution:\n",
      "Loan Status\n",
      "Fully Paid     77361\n",
      "Charged Off    22639\n",
      "Name: count, dtype: int64\n"
     ]
    }
   ],
   "source": [
    "# 3. Basic EDA\n",
    "print(\"\\n📌 Data Overview:\")\n",
    "print(df.info())\n",
    "print(\"\\n🔍 Missing Values:\")\n",
    "print(df.isnull().sum().sort_values(ascending=False))\n",
    "print(\"\\n🎯 Target Distribution:\")\n",
    "print(df[\"Loan Status\"].value_counts())"
   ]
  },
  {
   "cell_type": "code",
   "execution_count": 7,
   "id": "a072597c",
   "metadata": {},
   "outputs": [
    {
     "data": {
      "image/png": "[encoded data removed]",
      "text/plain": [
       "<Figure size 640x480 with 1 Axes>"
      ]
     },
     "metadata": {},
     "output_type": "display_data"
    }
   ],
   "source": [
    "#VISUALIZATION\n",
    "sns.countplot(x='Loan Status', data=df)\n",
    "plt.show()"
   ]
  },
  {
   "cell_type": "code",
   "execution_count": 8,
   "id": "07f044a3",
   "metadata": {},
   "outputs": [],
   "source": [
    "# 4. Target Encoding\n",
    "df[\"Loan Status\"] = df[\"Loan Status\"].map({\"Fully Paid\": 0, \"Charged Off\": 1})"
   ]
  },
  {
   "cell_type": "code",
   "execution_count": 9,
   "id": "1d885c52",
   "metadata": {},
   "outputs": [],
   "source": [
    "# ⚠️ Drop rows where target is NaN\n",
    "df = df.dropna(subset=[\"Loan Status\"])"
   ]
  },
  {
   "cell_type": "code",
   "execution_count": 10,
   "id": "92859e47",
   "metadata": {},
   "outputs": [],
   "source": [
    "# 5. Feature Engineering\n",
    "df[\"dti\"] = df[\"Monthly Debt\"] / (df[\"Annual Income\"] + 1)\n",
    "df[\"loan_to_income\"] = df[\"Current Loan Amount\"] / (df[\"Annual Income\"] + 1)\n",
    "df[\"loan_term_months\"] = df[\"Term\"].map({\"Short Term\": 36, \"Long Term\": 60})\n",
    "df[\"monthly_installment_est\"] = df[\"Current Loan Amount\"] / (df[\"loan_term_months\"] + 1)"
   ]
  },
  {
   "cell_type": "code",
   "execution_count": 11,
   "id": "7077ddb2",
   "metadata": {},
   "outputs": [],
   "source": [
    "def score_bucket(score):\n",
    "    if pd.isna(score):\n",
    "        return \"Unknown\"\n",
    "    elif score >= 750:\n",
    "        return \"Excellent\"\n",
    "    elif score >= 700:\n",
    "        return \"Good\"\n",
    "    elif score >= 650:\n",
    "        return \"Fair\"\n",
    "    else:\n",
    "        return \"Poor\"\n",
    "df[\"credit_score_bucket\"] = df[\"Credit Score\"].apply(score_bucket)"
   ]
  },
  {
   "cell_type": "code",
   "execution_count": 12,
   "id": "a87f1df0",
   "metadata": {},
   "outputs": [],
   "source": [
    "def parse_years(val):\n",
    "    if pd.isna(val):\n",
    "        return np.nan\n",
    "    if val == \"10+ years\":\n",
    "        return 10\n",
    "    if val == \"< 1 year\":\n",
    "        return 0.5\n",
    "    return float(val.split()[0])\n",
    "\n",
    "df[\"years_in_job_num\"] = df[\"Years in current job\"].apply(parse_years)"
   ]
  },
  {
   "cell_type": "code",
   "execution_count": 13,
   "id": "a391fd49",
   "metadata": {},
   "outputs": [],
   "source": [
    "#Creates binary features indicating missing values\n",
    "# Missing value flags\n",
    "df[\"Credit_Score_missing\"] = df[\"Credit Score\"].isnull().astype(int)\n",
    "df[\"Annual_Income_missing\"] = df[\"Annual Income\"].isnull().astype(int)\n",
    "df[\"Delinquent_missing\"] = df[\"Months since last delinquent\"].isnull().astype(int)"
   ]
  },
  {
   "cell_type": "code",
   "execution_count": 14,
   "id": "efe5804b",
   "metadata": {},
   "outputs": [],
   "source": [
    "# Drop unused columns\n",
    "drop_cols = ['Loan ID', 'Customer ID', 'Years in current job', 'Term']\n",
    "df.drop(columns=drop_cols, inplace=True)"
   ]
  },
  {
   "cell_type": "code",
   "execution_count": 15,
   "id": "4870aa83",
   "metadata": {},
   "outputs": [],
   "source": [
    "# 6. Handle Missing Values\n",
    "num_cols = df.select_dtypes(include=[\"float64\", \"int64\"]).columns.tolist()\n",
    "num_cols.remove(\"Loan Status\")\n",
    "imputer = SimpleImputer(strategy=\"mean\")\n",
    "df[num_cols] = imputer.fit_transform(df[num_cols])"
   ]
  },
  {
   "cell_type": "code",
   "execution_count": 16,
   "id": "0a770390",
   "metadata": {},
   "outputs": [],
   "source": [
    "# 7. Encode Categorical Columns\n",
    "cat_cols = df.select_dtypes(include=\"object\").columns.tolist()\n",
    "le_dict = {}\n",
    "for col in cat_cols:\n",
    "    le = LabelEncoder()\n",
    "    df[col] = le.fit_transform(df[col].astype(str))\n",
    "    le_dict[col] = le"
   ]
  },
  {
   "cell_type": "code",
   "execution_count": 17,
   "id": "fcdfb5c2",
   "metadata": {},
   "outputs": [],
   "source": [
    "# 8. Scale Numerical Features\n",
    "scaler = StandardScaler()\n",
    "df[num_cols] = scaler.fit_transform(df[num_cols])"
   ]
  },
  {
   "cell_type": "code",
   "execution_count": 18,
   "id": "b134ec23",
   "metadata": {},
   "outputs": [],
   "source": [
    "# 9. Split Data\n",
    "X = df.drop(\"Loan Status\", axis=1)\n",
    "y = df[\"Loan Status\"]\n",
    "X_train, X_val, y_train, y_val = train_test_split(X, y, test_size=0.2, stratify=y, random_state=42)"
   ]
  },
  {
   "cell_type": "code",
   "execution_count": 19,
   "id": "74edc0f0",
   "metadata": {},
   "outputs": [],
   "source": [
    "# 10. Train and Evaluate Models\n",
    "def evaluate_model(model, name):\n",
    "    model.fit(X_train, y_train)\n",
    "    preds = model.predict(X_val)\n",
    "    print(f\"\\n🔍 {name} Evaluation\")\n",
    "    print(confusion_matrix(y_val, preds))\n",
    "    print(classification_report(y_val, preds))\n",
    "    print(f\"✅ Accuracy: {accuracy_score(y_val, preds):.4f}\")"
   ]
  },
  {
   "cell_type": "code",
   "execution_count": 20,
   "id": "92344cf7",
   "metadata": {},
   "outputs": [
    {
     "name": "stdout",
     "output_type": "stream",
     "text": [
      "\n",
      "🔍 Logistic Regression Evaluation\n",
      "[[15472     0]\n",
      " [ 3594   934]]\n",
      "              precision    recall  f1-score   support\n",
      "\n",
      "         0.0       0.81      1.00      0.90     15472\n",
      "         1.0       1.00      0.21      0.34      4528\n",
      "\n",
      "    accuracy                           0.82     20000\n",
      "   macro avg       0.91      0.60      0.62     20000\n",
      "weighted avg       0.85      0.82      0.77     20000\n",
      "\n",
      "✅ Accuracy: 0.8203\n"
     ]
    }
   ],
   "source": [
    "# Logistic Regression\n",
    "evaluate_model(LogisticRegression(max_iter=1000), \"Logistic Regression\")"
   ]
  },
  {
   "cell_type": "code",
   "execution_count": 21,
   "id": "bf99b8cd",
   "metadata": {},
   "outputs": [
    {
     "name": "stdout",
     "output_type": "stream",
     "text": [
      "\n",
      "🔍 Random Forest Evaluation\n",
      "[[15333   139]\n",
      " [ 3482  1046]]\n",
      "              precision    recall  f1-score   support\n",
      "\n",
      "         0.0       0.81      0.99      0.89     15472\n",
      "         1.0       0.88      0.23      0.37      4528\n",
      "\n",
      "    accuracy                           0.82     20000\n",
      "   macro avg       0.85      0.61      0.63     20000\n",
      "weighted avg       0.83      0.82      0.77     20000\n",
      "\n",
      "✅ Accuracy: 0.8189\n"
     ]
    }
   ],
   "source": [
    "# Random Forest\n",
    "evaluate_model(RandomForestClassifier(n_estimators=100, class_weight=\"balanced\"), \"Random Forest\")"
   ]
  },
  {
   "cell_type": "code",
   "execution_count": 22,
   "id": "b3c671f5",
   "metadata": {},
   "outputs": [
    {
     "name": "stdout",
     "output_type": "stream",
     "text": [
      "\n",
      "🔍 K-Nearest Neighbors Evaluation\n",
      "[[14509   963]\n",
      " [ 3153  1375]]\n",
      "              precision    recall  f1-score   support\n",
      "\n",
      "         0.0       0.82      0.94      0.88     15472\n",
      "         1.0       0.59      0.30      0.40      4528\n",
      "\n",
      "    accuracy                           0.79     20000\n",
      "   macro avg       0.70      0.62      0.64     20000\n",
      "weighted avg       0.77      0.79      0.77     20000\n",
      "\n",
      "✅ Accuracy: 0.7942\n"
     ]
    }
   ],
   "source": [
    "# K-Nearest Neighbors\n",
    "evaluate_model(KNeighborsClassifier(n_neighbors=5), \"K-Nearest Neighbors\")"
   ]
  },
  {
   "cell_type": "code",
   "execution_count": null,
   "id": "ea9d805a",
   "metadata": {},
   "outputs": [],
   "source": []
  }
 ],
 "metadata": {
  "kernelspec": {
   "display_name": "Python 3",
   "language": "python",
   "name": "python3"
  },
  "language_info": {
   "codemirror_mode": {
    "name": "ipython",
    "version": 3
   },
   "file_extension": ".py",
   "mimetype": "text/x-python",
   "name": "python",
   "nbconvert_exporter": "python",
   "pygments_lexer": "ipython3",
   "version": "3.12.1"
  }
 },
 "nbformat": 4,
 "nbformat_minor": 5
}
